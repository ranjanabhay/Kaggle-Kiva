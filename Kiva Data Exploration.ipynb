{
 "cells": [
  {
   "cell_type": "code",
   "execution_count": 77,
   "metadata": {
    "collapsed": true
   },
   "outputs": [],
   "source": [
    "#Load Kiva dataset"
   ]
  },
  {
   "cell_type": "code",
   "execution_count": 78,
   "metadata": {
    "collapsed": true
   },
   "outputs": [],
   "source": [
    "import pandas as pd\n",
    "import numpy as np"
   ]
  },
  {
   "cell_type": "code",
   "execution_count": 79,
   "metadata": {},
   "outputs": [
    {
     "data": {
      "text/html": [
       "<div>\n",
       "<style>\n",
       "    .dataframe thead tr:only-child th {\n",
       "        text-align: right;\n",
       "    }\n",
       "\n",
       "    .dataframe thead th {\n",
       "        text-align: left;\n",
       "    }\n",
       "\n",
       "    .dataframe tbody tr th {\n",
       "        vertical-align: top;\n",
       "    }\n",
       "</style>\n",
       "<table border=\"1\" class=\"dataframe\">\n",
       "  <thead>\n",
       "    <tr style=\"text-align: right;\">\n",
       "      <th></th>\n",
       "      <th>id</th>\n",
       "      <th>funded_amount</th>\n",
       "      <th>loan_amount</th>\n",
       "      <th>activity</th>\n",
       "      <th>sector</th>\n",
       "      <th>use</th>\n",
       "      <th>country_code</th>\n",
       "      <th>country</th>\n",
       "      <th>region</th>\n",
       "      <th>currency</th>\n",
       "      <th>partner_id</th>\n",
       "      <th>posted_time</th>\n",
       "      <th>disbursed_time</th>\n",
       "      <th>funded_time</th>\n",
       "      <th>term_in_months</th>\n",
       "      <th>lender_count</th>\n",
       "      <th>tags</th>\n",
       "      <th>borrower_genders</th>\n",
       "      <th>repayment_interval</th>\n",
       "      <th>date</th>\n",
       "    </tr>\n",
       "  </thead>\n",
       "  <tbody>\n",
       "    <tr>\n",
       "      <th>0</th>\n",
       "      <td>653051</td>\n",
       "      <td>300.0</td>\n",
       "      <td>300.0</td>\n",
       "      <td>Fruits &amp; Vegetables</td>\n",
       "      <td>Food</td>\n",
       "      <td>To buy seasonal, fresh fruits to sell.</td>\n",
       "      <td>PK</td>\n",
       "      <td>Pakistan</td>\n",
       "      <td>Lahore</td>\n",
       "      <td>PKR</td>\n",
       "      <td>247.0</td>\n",
       "      <td>2014-01-01 06:12:39+00:00</td>\n",
       "      <td>2013-12-17 08:00:00+00:00</td>\n",
       "      <td>2014-01-02 10:06:32+00:00</td>\n",
       "      <td>12.0</td>\n",
       "      <td>12</td>\n",
       "      <td>NaN</td>\n",
       "      <td>female</td>\n",
       "      <td>irregular</td>\n",
       "      <td>2014-01-01</td>\n",
       "    </tr>\n",
       "    <tr>\n",
       "      <th>1</th>\n",
       "      <td>653053</td>\n",
       "      <td>575.0</td>\n",
       "      <td>575.0</td>\n",
       "      <td>Rickshaw</td>\n",
       "      <td>Transportation</td>\n",
       "      <td>to repair and maintain the auto rickshaw used ...</td>\n",
       "      <td>PK</td>\n",
       "      <td>Pakistan</td>\n",
       "      <td>Lahore</td>\n",
       "      <td>PKR</td>\n",
       "      <td>247.0</td>\n",
       "      <td>2014-01-01 06:51:08+00:00</td>\n",
       "      <td>2013-12-17 08:00:00+00:00</td>\n",
       "      <td>2014-01-02 09:17:23+00:00</td>\n",
       "      <td>11.0</td>\n",
       "      <td>14</td>\n",
       "      <td>NaN</td>\n",
       "      <td>female, female</td>\n",
       "      <td>irregular</td>\n",
       "      <td>2014-01-01</td>\n",
       "    </tr>\n",
       "    <tr>\n",
       "      <th>2</th>\n",
       "      <td>653068</td>\n",
       "      <td>150.0</td>\n",
       "      <td>150.0</td>\n",
       "      <td>Transportation</td>\n",
       "      <td>Transportation</td>\n",
       "      <td>To repair their old cycle-van and buy another ...</td>\n",
       "      <td>IN</td>\n",
       "      <td>India</td>\n",
       "      <td>Maynaguri</td>\n",
       "      <td>INR</td>\n",
       "      <td>334.0</td>\n",
       "      <td>2014-01-01 09:58:07+00:00</td>\n",
       "      <td>2013-12-17 08:00:00+00:00</td>\n",
       "      <td>2014-01-01 16:01:36+00:00</td>\n",
       "      <td>43.0</td>\n",
       "      <td>6</td>\n",
       "      <td>user_favorite, user_favorite</td>\n",
       "      <td>female</td>\n",
       "      <td>bullet</td>\n",
       "      <td>2014-01-01</td>\n",
       "    </tr>\n",
       "  </tbody>\n",
       "</table>\n",
       "</div>"
      ],
      "text/plain": [
       "       id  funded_amount  loan_amount             activity          sector  \\\n",
       "0  653051          300.0        300.0  Fruits & Vegetables            Food   \n",
       "1  653053          575.0        575.0             Rickshaw  Transportation   \n",
       "2  653068          150.0        150.0       Transportation  Transportation   \n",
       "\n",
       "                                                 use country_code   country  \\\n",
       "0            To buy seasonal, fresh fruits to sell.            PK  Pakistan   \n",
       "1  to repair and maintain the auto rickshaw used ...           PK  Pakistan   \n",
       "2  To repair their old cycle-van and buy another ...           IN     India   \n",
       "\n",
       "      region currency  partner_id                posted_time  \\\n",
       "0     Lahore      PKR       247.0  2014-01-01 06:12:39+00:00   \n",
       "1     Lahore      PKR       247.0  2014-01-01 06:51:08+00:00   \n",
       "2  Maynaguri      INR       334.0  2014-01-01 09:58:07+00:00   \n",
       "\n",
       "              disbursed_time                funded_time  term_in_months  \\\n",
       "0  2013-12-17 08:00:00+00:00  2014-01-02 10:06:32+00:00            12.0   \n",
       "1  2013-12-17 08:00:00+00:00  2014-01-02 09:17:23+00:00            11.0   \n",
       "2  2013-12-17 08:00:00+00:00  2014-01-01 16:01:36+00:00            43.0   \n",
       "\n",
       "   lender_count                          tags borrower_genders  \\\n",
       "0            12                           NaN           female   \n",
       "1            14                           NaN   female, female   \n",
       "2             6  user_favorite, user_favorite           female   \n",
       "\n",
       "  repayment_interval        date  \n",
       "0          irregular  2014-01-01  \n",
       "1          irregular  2014-01-01  \n",
       "2             bullet  2014-01-01  "
      ]
     },
     "execution_count": 79,
     "metadata": {},
     "output_type": "execute_result"
    }
   ],
   "source": [
    "# Reading kiva loans file\n",
    "kiva_loan = pd.read_csv(\"../input/kiva_loans.csv\")\n",
    "kiva_loan.head(n=3)"
   ]
  },
  {
   "cell_type": "code",
   "execution_count": 80,
   "metadata": {},
   "outputs": [
    {
     "data": {
      "text/plain": [
       "671205"
      ]
     },
     "execution_count": 80,
     "metadata": {},
     "output_type": "execute_result"
    }
   ],
   "source": [
    "kiva_loan.shape[0]"
   ]
  },
  {
   "cell_type": "code",
   "execution_count": 81,
   "metadata": {},
   "outputs": [
    {
     "data": {
      "text/html": [
       "<div>\n",
       "<style>\n",
       "    .dataframe thead tr:only-child th {\n",
       "        text-align: right;\n",
       "    }\n",
       "\n",
       "    .dataframe thead th {\n",
       "        text-align: left;\n",
       "    }\n",
       "\n",
       "    .dataframe tbody tr th {\n",
       "        vertical-align: top;\n",
       "    }\n",
       "</style>\n",
       "<table border=\"1\" class=\"dataframe\">\n",
       "  <thead>\n",
       "    <tr style=\"text-align: right;\">\n",
       "      <th></th>\n",
       "      <th>LocationName</th>\n",
       "      <th>ISO</th>\n",
       "      <th>country</th>\n",
       "      <th>region</th>\n",
       "      <th>world_region</th>\n",
       "      <th>MPI</th>\n",
       "      <th>geo</th>\n",
       "      <th>lat</th>\n",
       "      <th>lon</th>\n",
       "    </tr>\n",
       "  </thead>\n",
       "  <tbody>\n",
       "    <tr>\n",
       "      <th>0</th>\n",
       "      <td>Badakhshan, Afghanistan</td>\n",
       "      <td>AFG</td>\n",
       "      <td>Afghanistan</td>\n",
       "      <td>Badakhshan</td>\n",
       "      <td>South Asia</td>\n",
       "      <td>0.387</td>\n",
       "      <td>(36.7347725, 70.81199529999999)</td>\n",
       "      <td>36.734772</td>\n",
       "      <td>70.811995</td>\n",
       "    </tr>\n",
       "    <tr>\n",
       "      <th>1</th>\n",
       "      <td>Badghis, Afghanistan</td>\n",
       "      <td>AFG</td>\n",
       "      <td>Afghanistan</td>\n",
       "      <td>Badghis</td>\n",
       "      <td>South Asia</td>\n",
       "      <td>0.466</td>\n",
       "      <td>(35.1671339, 63.7695384)</td>\n",
       "      <td>35.167134</td>\n",
       "      <td>63.769538</td>\n",
       "    </tr>\n",
       "    <tr>\n",
       "      <th>2</th>\n",
       "      <td>Baghlan, Afghanistan</td>\n",
       "      <td>AFG</td>\n",
       "      <td>Afghanistan</td>\n",
       "      <td>Baghlan</td>\n",
       "      <td>South Asia</td>\n",
       "      <td>0.300</td>\n",
       "      <td>(35.8042947, 69.2877535)</td>\n",
       "      <td>35.804295</td>\n",
       "      <td>69.287754</td>\n",
       "    </tr>\n",
       "    <tr>\n",
       "      <th>3</th>\n",
       "      <td>Balkh, Afghanistan</td>\n",
       "      <td>AFG</td>\n",
       "      <td>Afghanistan</td>\n",
       "      <td>Balkh</td>\n",
       "      <td>South Asia</td>\n",
       "      <td>0.301</td>\n",
       "      <td>(36.7550603, 66.8975372)</td>\n",
       "      <td>36.755060</td>\n",
       "      <td>66.897537</td>\n",
       "    </tr>\n",
       "    <tr>\n",
       "      <th>4</th>\n",
       "      <td>Bamyan, Afghanistan</td>\n",
       "      <td>AFG</td>\n",
       "      <td>Afghanistan</td>\n",
       "      <td>Bamyan</td>\n",
       "      <td>South Asia</td>\n",
       "      <td>0.325</td>\n",
       "      <td>(34.8100067, 67.8212104)</td>\n",
       "      <td>34.810007</td>\n",
       "      <td>67.821210</td>\n",
       "    </tr>\n",
       "  </tbody>\n",
       "</table>\n",
       "</div>"
      ],
      "text/plain": [
       "              LocationName  ISO      country      region world_region    MPI  \\\n",
       "0  Badakhshan, Afghanistan  AFG  Afghanistan  Badakhshan   South Asia  0.387   \n",
       "1     Badghis, Afghanistan  AFG  Afghanistan     Badghis   South Asia  0.466   \n",
       "2     Baghlan, Afghanistan  AFG  Afghanistan     Baghlan   South Asia  0.300   \n",
       "3       Balkh, Afghanistan  AFG  Afghanistan       Balkh   South Asia  0.301   \n",
       "4      Bamyan, Afghanistan  AFG  Afghanistan      Bamyan   South Asia  0.325   \n",
       "\n",
       "                               geo        lat        lon  \n",
       "0  (36.7347725, 70.81199529999999)  36.734772  70.811995  \n",
       "1         (35.1671339, 63.7695384)  35.167134  63.769538  \n",
       "2         (35.8042947, 69.2877535)  35.804295  69.287754  \n",
       "3         (36.7550603, 66.8975372)  36.755060  66.897537  \n",
       "4         (34.8100067, 67.8212104)  34.810007  67.821210  "
      ]
     },
     "execution_count": 81,
     "metadata": {},
     "output_type": "execute_result"
    }
   ],
   "source": [
    "# Reading Kiva Region Location file.\n",
    "kiva_region_location = pd.read_csv(\"../input/kiva_mpi_region_locations.csv\")\n",
    "kiva_region_location.head(n=5)"
   ]
  },
  {
   "cell_type": "code",
   "execution_count": 82,
   "metadata": {},
   "outputs": [
    {
     "data": {
      "text/html": [
       "<div>\n",
       "<style>\n",
       "    .dataframe thead tr:only-child th {\n",
       "        text-align: right;\n",
       "    }\n",
       "\n",
       "    .dataframe thead th {\n",
       "        text-align: left;\n",
       "    }\n",
       "\n",
       "    .dataframe tbody tr th {\n",
       "        vertical-align: top;\n",
       "    }\n",
       "</style>\n",
       "<table border=\"1\" class=\"dataframe\">\n",
       "  <thead>\n",
       "    <tr style=\"text-align: right;\">\n",
       "      <th></th>\n",
       "      <th>id</th>\n",
       "      <th>Loan Theme ID</th>\n",
       "      <th>Loan Theme Type</th>\n",
       "      <th>Partner ID</th>\n",
       "    </tr>\n",
       "  </thead>\n",
       "  <tbody>\n",
       "    <tr>\n",
       "      <th>0</th>\n",
       "      <td>638631</td>\n",
       "      <td>a1050000000skGl</td>\n",
       "      <td>General</td>\n",
       "      <td>151.0</td>\n",
       "    </tr>\n",
       "    <tr>\n",
       "      <th>1</th>\n",
       "      <td>640322</td>\n",
       "      <td>a1050000000skGl</td>\n",
       "      <td>General</td>\n",
       "      <td>151.0</td>\n",
       "    </tr>\n",
       "    <tr>\n",
       "      <th>2</th>\n",
       "      <td>641006</td>\n",
       "      <td>a1050000002X1ij</td>\n",
       "      <td>Higher Education</td>\n",
       "      <td>160.0</td>\n",
       "    </tr>\n",
       "  </tbody>\n",
       "</table>\n",
       "</div>"
      ],
      "text/plain": [
       "       id    Loan Theme ID   Loan Theme Type  Partner ID\n",
       "0  638631  a1050000000skGl           General       151.0\n",
       "1  640322  a1050000000skGl           General       151.0\n",
       "2  641006  a1050000002X1ij  Higher Education       160.0"
      ]
     },
     "execution_count": 82,
     "metadata": {},
     "output_type": "execute_result"
    }
   ],
   "source": [
    "# Reading Kiva Loan theme File\n",
    "kiva_loan_theme = pd.read_csv(\"../input/loan_theme_ids.csv\")\n",
    "kiva_loan_theme.head(n=3)"
   ]
  },
  {
   "cell_type": "code",
   "execution_count": 83,
   "metadata": {},
   "outputs": [
    {
     "data": {
      "text/html": [
       "<div>\n",
       "<style>\n",
       "    .dataframe thead tr:only-child th {\n",
       "        text-align: right;\n",
       "    }\n",
       "\n",
       "    .dataframe thead th {\n",
       "        text-align: left;\n",
       "    }\n",
       "\n",
       "    .dataframe tbody tr th {\n",
       "        vertical-align: top;\n",
       "    }\n",
       "</style>\n",
       "<table border=\"1\" class=\"dataframe\">\n",
       "  <thead>\n",
       "    <tr style=\"text-align: right;\">\n",
       "      <th></th>\n",
       "      <th>Partner ID</th>\n",
       "      <th>Field Partner Name</th>\n",
       "      <th>sector</th>\n",
       "      <th>Loan Theme ID</th>\n",
       "      <th>Loan Theme Type</th>\n",
       "      <th>country</th>\n",
       "      <th>forkiva</th>\n",
       "      <th>region</th>\n",
       "      <th>geocode_old</th>\n",
       "      <th>ISO</th>\n",
       "      <th>...</th>\n",
       "      <th>amount</th>\n",
       "      <th>LocationName</th>\n",
       "      <th>geocode</th>\n",
       "      <th>names</th>\n",
       "      <th>geo</th>\n",
       "      <th>lat</th>\n",
       "      <th>lon</th>\n",
       "      <th>mpi_region</th>\n",
       "      <th>mpi_geo</th>\n",
       "      <th>rural_pct</th>\n",
       "    </tr>\n",
       "  </thead>\n",
       "  <tbody>\n",
       "    <tr>\n",
       "      <th>0</th>\n",
       "      <td>9</td>\n",
       "      <td>KREDIT Microfinance Institution</td>\n",
       "      <td>General Financial Inclusion</td>\n",
       "      <td>a1050000000slfi</td>\n",
       "      <td>Higher Education</td>\n",
       "      <td>Cambodia</td>\n",
       "      <td>No</td>\n",
       "      <td>Banteay Meanchey</td>\n",
       "      <td>(13.75, 103.0)</td>\n",
       "      <td>KHM</td>\n",
       "      <td>...</td>\n",
       "      <td>450</td>\n",
       "      <td>Banteay Meanchey, Cambodia</td>\n",
       "      <td>[(13.6672596, 102.8975098)]</td>\n",
       "      <td>Banteay Meanchey Province; Cambodia</td>\n",
       "      <td>(13.6672596, 102.8975098)</td>\n",
       "      <td>13.667260</td>\n",
       "      <td>102.897510</td>\n",
       "      <td>Banteay Mean Chey, Cambodia</td>\n",
       "      <td>(13.6672596, 102.8975098)</td>\n",
       "      <td>90.0</td>\n",
       "    </tr>\n",
       "    <tr>\n",
       "      <th>1</th>\n",
       "      <td>9</td>\n",
       "      <td>KREDIT Microfinance Institution</td>\n",
       "      <td>General Financial Inclusion</td>\n",
       "      <td>a10500000068jPe</td>\n",
       "      <td>Vulnerable Populations</td>\n",
       "      <td>Cambodia</td>\n",
       "      <td>No</td>\n",
       "      <td>Battambang Province</td>\n",
       "      <td>NaN</td>\n",
       "      <td>KHM</td>\n",
       "      <td>...</td>\n",
       "      <td>20275</td>\n",
       "      <td>Battambang Province, Cambodia</td>\n",
       "      <td>[(13.0286971, 102.989615)]</td>\n",
       "      <td>Battambang Province; Cambodia</td>\n",
       "      <td>(13.0286971, 102.989615)</td>\n",
       "      <td>13.028697</td>\n",
       "      <td>102.989615</td>\n",
       "      <td>Banteay Mean Chey, Cambodia</td>\n",
       "      <td>(13.6672596, 102.8975098)</td>\n",
       "      <td>90.0</td>\n",
       "    </tr>\n",
       "    <tr>\n",
       "      <th>2</th>\n",
       "      <td>9</td>\n",
       "      <td>KREDIT Microfinance Institution</td>\n",
       "      <td>General Financial Inclusion</td>\n",
       "      <td>a1050000000slfi</td>\n",
       "      <td>Higher Education</td>\n",
       "      <td>Cambodia</td>\n",
       "      <td>No</td>\n",
       "      <td>Battambang Province</td>\n",
       "      <td>NaN</td>\n",
       "      <td>KHM</td>\n",
       "      <td>...</td>\n",
       "      <td>9150</td>\n",
       "      <td>Battambang Province, Cambodia</td>\n",
       "      <td>[(13.0286971, 102.989615)]</td>\n",
       "      <td>Battambang Province; Cambodia</td>\n",
       "      <td>(13.0286971, 102.989615)</td>\n",
       "      <td>13.028697</td>\n",
       "      <td>102.989615</td>\n",
       "      <td>Banteay Mean Chey, Cambodia</td>\n",
       "      <td>(13.6672596, 102.8975098)</td>\n",
       "      <td>90.0</td>\n",
       "    </tr>\n",
       "  </tbody>\n",
       "</table>\n",
       "<p>3 rows × 21 columns</p>\n",
       "</div>"
      ],
      "text/plain": [
       "   Partner ID               Field Partner Name                       sector  \\\n",
       "0           9  KREDIT Microfinance Institution  General Financial Inclusion   \n",
       "1           9  KREDIT Microfinance Institution  General Financial Inclusion   \n",
       "2           9  KREDIT Microfinance Institution  General Financial Inclusion   \n",
       "\n",
       "     Loan Theme ID         Loan Theme Type   country forkiva  \\\n",
       "0  a1050000000slfi        Higher Education  Cambodia      No   \n",
       "1  a10500000068jPe  Vulnerable Populations  Cambodia      No   \n",
       "2  a1050000000slfi        Higher Education  Cambodia      No   \n",
       "\n",
       "                region     geocode_old  ISO    ...     amount  \\\n",
       "0     Banteay Meanchey  (13.75, 103.0)  KHM    ...        450   \n",
       "1  Battambang Province             NaN  KHM    ...      20275   \n",
       "2  Battambang Province             NaN  KHM    ...       9150   \n",
       "\n",
       "                    LocationName                      geocode  \\\n",
       "0     Banteay Meanchey, Cambodia  [(13.6672596, 102.8975098)]   \n",
       "1  Battambang Province, Cambodia   [(13.0286971, 102.989615)]   \n",
       "2  Battambang Province, Cambodia   [(13.0286971, 102.989615)]   \n",
       "\n",
       "                                 names                        geo        lat  \\\n",
       "0  Banteay Meanchey Province; Cambodia  (13.6672596, 102.8975098)  13.667260   \n",
       "1        Battambang Province; Cambodia   (13.0286971, 102.989615)  13.028697   \n",
       "2        Battambang Province; Cambodia   (13.0286971, 102.989615)  13.028697   \n",
       "\n",
       "          lon                   mpi_region                    mpi_geo  \\\n",
       "0  102.897510  Banteay Mean Chey, Cambodia  (13.6672596, 102.8975098)   \n",
       "1  102.989615  Banteay Mean Chey, Cambodia  (13.6672596, 102.8975098)   \n",
       "2  102.989615  Banteay Mean Chey, Cambodia  (13.6672596, 102.8975098)   \n",
       "\n",
       "  rural_pct  \n",
       "0      90.0  \n",
       "1      90.0  \n",
       "2      90.0  \n",
       "\n",
       "[3 rows x 21 columns]"
      ]
     },
     "execution_count": 83,
     "metadata": {},
     "output_type": "execute_result"
    }
   ],
   "source": [
    "# Reading Kiva Loan Themes by Region File\n",
    "kiva_loan_themes_by_region = pd.read_csv(\"../input/loan_themes_by_region.csv\")\n",
    "kiva_loan_themes_by_region.head(n=3)"
   ]
  },
  {
   "cell_type": "code",
   "execution_count": 84,
   "metadata": {},
   "outputs": [
    {
     "data": {
      "text/html": [
       "<script>requirejs.config({paths: { 'plotly': ['https://cdn.plot.ly/plotly-latest.min']},});if(!window.Plotly) {{require(['plotly'],function(plotly) {window.Plotly=plotly;});}}</script>"
      ],
      "text/vnd.plotly.v1+html": [
       "<script>requirejs.config({paths: { 'plotly': ['https://cdn.plot.ly/plotly-latest.min']},});if(!window.Plotly) {{require(['plotly'],function(plotly) {window.Plotly=plotly;});}}</script>"
      ]
     },
     "metadata": {},
     "output_type": "display_data"
    }
   ],
   "source": [
    "import plotly\n",
    "import plotly.plotly as py\n",
    "#import plotly.figure_factory as ff\n",
    "from plotly.tools import FigureFactory as ff\n",
    "#plotly.tools.set_credentials_file(username='abhay.rnj', api_key='8MzosR0uht5BE3tfUlhd')\n",
    "from plotly.offline import download_plotlyjs,init_notebook_mode,plot,iplot\n",
    "#from plotly.graph_objs import Scatter,Figure,Layout\n",
    "from plotly.graph_objs import *\n",
    "init_notebook_mode(connected=True)"
   ]
  },
  {
   "cell_type": "code",
   "execution_count": 85,
   "metadata": {},
   "outputs": [
    {
     "data": {
      "text/html": [
       "<div>\n",
       "<style>\n",
       "    .dataframe thead tr:only-child th {\n",
       "        text-align: right;\n",
       "    }\n",
       "\n",
       "    .dataframe thead th {\n",
       "        text-align: left;\n",
       "    }\n",
       "\n",
       "    .dataframe tbody tr th {\n",
       "        vertical-align: top;\n",
       "    }\n",
       "</style>\n",
       "<table border=\"1\" class=\"dataframe\">\n",
       "  <thead>\n",
       "    <tr style=\"text-align: right;\">\n",
       "      <th></th>\n",
       "      <th>Country</th>\n",
       "      <th>number_of_loans</th>\n",
       "    </tr>\n",
       "  </thead>\n",
       "  <tbody>\n",
       "    <tr>\n",
       "      <th>0</th>\n",
       "      <td>Philippines</td>\n",
       "      <td>160441</td>\n",
       "    </tr>\n",
       "    <tr>\n",
       "      <th>1</th>\n",
       "      <td>Kenya</td>\n",
       "      <td>75825</td>\n",
       "    </tr>\n",
       "  </tbody>\n",
       "</table>\n",
       "</div>"
      ],
      "text/plain": [
       "       Country  number_of_loans\n",
       "0  Philippines           160441\n",
       "1        Kenya            75825"
      ]
     },
     "execution_count": 85,
     "metadata": {},
     "output_type": "execute_result"
    }
   ],
   "source": [
    "loan_count_by_country_df = pd.DataFrame(kiva_loan['country'].value_counts()).head(n=25).reset_index()\n",
    "loan_count_by_country_df.columns = ['Country','number_of_loans']\n",
    "loan_count_by_country_df.head(n=2)"
   ]
  },
  {
   "cell_type": "code",
   "execution_count": 86,
   "metadata": {},
   "outputs": [
    {
     "data": {
      "application/vnd.plotly.v1+json": {
       "data": [
        {
         "autocolorscale": false,
         "colorbar": {
          "tickprefix": "",
          "title": "Number Of Loans"
         },
         "colorscale": [
          [
           [
            0,
            "rgb(5, 10, 172)"
           ],
           [
            0.85,
            "rgb(40, 60, 190)"
           ],
           [
            0.9,
            "rgb(70, 100, 245)"
           ],
           [
            0.94,
            "rgb(90, 120, 245)"
           ],
           [
            0.97,
            "rgb(106, 137, 247)"
           ],
           [
            1,
            "rgb(220, 220, 220)"
           ]
          ]
         ],
         "locationmode": "USA-states",
         "locations": [
          "Philippines",
          "Kenya",
          "El Salvador",
          "Cambodia",
          "Pakistan",
          "Peru",
          "Colombia",
          "Uganda",
          "Tajikistan",
          "Ecuador",
          "Paraguay",
          "Nicaragua",
          "India",
          "Vietnam",
          "Nigeria",
          "Bolivia",
          "Lebanon",
          "Armenia",
          "Palestine",
          "Samoa",
          "Guatemala",
          "Rwanda",
          "Mali",
          "Honduras",
          "Indonesia"
         ],
         "marker": {
          "line": {
           "color": "rgb(180,180,180)",
           "width": 2
          }
         },
         "reversescale": true,
         "text": [
          "Philippines",
          "Kenya",
          "El Salvador",
          "Cambodia",
          "Pakistan",
          "Peru",
          "Colombia",
          "Uganda",
          "Tajikistan",
          "Ecuador",
          "Paraguay",
          "Nicaragua",
          "India",
          "Vietnam",
          "Nigeria",
          "Bolivia",
          "Lebanon",
          "Armenia",
          "Palestine",
          "Samoa",
          "Guatemala",
          "Rwanda",
          "Mali",
          "Honduras",
          "Indonesia"
         ],
         "type": "choropleth",
         "z": [
          160441,
          75825,
          39875,
          34836,
          26857,
          22233,
          21995,
          20601,
          19580,
          13521,
          11903,
          11781,
          11237,
          10843,
          10136,
          8806,
          8792,
          8631,
          8167,
          7396,
          7310,
          6735,
          6639,
          6557,
          6214
         ]
        }
       ],
       "layout": {
        "geo": {
         "projection": {
          "type": "Mercator"
         },
         "showcoastlines": true,
         "showframe": false
        },
        "title": "Loans Instances by Country"
       }
      },
      "text/html": [
       "<div id=\"d8460aec-3020-4151-9309-14c422682bb3\" style=\"height: 525px; width: 100%;\" class=\"plotly-graph-div\"></div><script type=\"text/javascript\">require([\"plotly\"], function(Plotly) { window.PLOTLYENV=window.PLOTLYENV || {};window.PLOTLYENV.BASE_URL=\"https://plot.ly\";Plotly.newPlot(\"d8460aec-3020-4151-9309-14c422682bb3\", [{\"type\": \"choropleth\", \"colorscale\": [[[0, \"rgb(5, 10, 172)\"], [0.85, \"rgb(40, 60, 190)\"], [0.9, \"rgb(70, 100, 245)\"], [0.94, \"rgb(90, 120, 245)\"], [0.97, \"rgb(106, 137, 247)\"], [1, \"rgb(220, 220, 220)\"]]], \"autocolorscale\": false, \"reversescale\": true, \"locations\": [\"Philippines\", \"Kenya\", \"El Salvador\", \"Cambodia\", \"Pakistan\", \"Peru\", \"Colombia\", \"Uganda\", \"Tajikistan\", \"Ecuador\", \"Paraguay\", \"Nicaragua\", \"India\", \"Vietnam\", \"Nigeria\", \"Bolivia\", \"Lebanon\", \"Armenia\", \"Palestine\", \"Samoa\", \"Guatemala\", \"Rwanda\", \"Mali\", \"Honduras\", \"Indonesia\"], \"z\": [160441.0, 75825.0, 39875.0, 34836.0, 26857.0, 22233.0, 21995.0, 20601.0, 19580.0, 13521.0, 11903.0, 11781.0, 11237.0, 10843.0, 10136.0, 8806.0, 8792.0, 8631.0, 8167.0, 7396.0, 7310.0, 6735.0, 6639.0, 6557.0, 6214.0], \"locationmode\": \"USA-states\", \"text\": [\"Philippines\", \"Kenya\", \"El Salvador\", \"Cambodia\", \"Pakistan\", \"Peru\", \"Colombia\", \"Uganda\", \"Tajikistan\", \"Ecuador\", \"Paraguay\", \"Nicaragua\", \"India\", \"Vietnam\", \"Nigeria\", \"Bolivia\", \"Lebanon\", \"Armenia\", \"Palestine\", \"Samoa\", \"Guatemala\", \"Rwanda\", \"Mali\", \"Honduras\", \"Indonesia\"], \"marker\": {\"line\": {\"color\": \"rgb(180,180,180)\", \"width\": 2}}, \"colorbar\": {\"tickprefix\": \"\", \"title\": \"Number Of Loans\"}}], {\"title\": \"Loans Instances by Country\", \"geo\": {\"showframe\": false, \"showcoastlines\": true, \"projection\": {\"type\": \"Mercator\"}}}, {\"showLink\": true, \"linkText\": \"Export to plot.ly\"})});</script>"
      ],
      "text/vnd.plotly.v1+html": [
       "<div id=\"d8460aec-3020-4151-9309-14c422682bb3\" style=\"height: 525px; width: 100%;\" class=\"plotly-graph-div\"></div><script type=\"text/javascript\">require([\"plotly\"], function(Plotly) { window.PLOTLYENV=window.PLOTLYENV || {};window.PLOTLYENV.BASE_URL=\"https://plot.ly\";Plotly.newPlot(\"d8460aec-3020-4151-9309-14c422682bb3\", [{\"type\": \"choropleth\", \"colorscale\": [[[0, \"rgb(5, 10, 172)\"], [0.85, \"rgb(40, 60, 190)\"], [0.9, \"rgb(70, 100, 245)\"], [0.94, \"rgb(90, 120, 245)\"], [0.97, \"rgb(106, 137, 247)\"], [1, \"rgb(220, 220, 220)\"]]], \"autocolorscale\": false, \"reversescale\": true, \"locations\": [\"Philippines\", \"Kenya\", \"El Salvador\", \"Cambodia\", \"Pakistan\", \"Peru\", \"Colombia\", \"Uganda\", \"Tajikistan\", \"Ecuador\", \"Paraguay\", \"Nicaragua\", \"India\", \"Vietnam\", \"Nigeria\", \"Bolivia\", \"Lebanon\", \"Armenia\", \"Palestine\", \"Samoa\", \"Guatemala\", \"Rwanda\", \"Mali\", \"Honduras\", \"Indonesia\"], \"z\": [160441.0, 75825.0, 39875.0, 34836.0, 26857.0, 22233.0, 21995.0, 20601.0, 19580.0, 13521.0, 11903.0, 11781.0, 11237.0, 10843.0, 10136.0, 8806.0, 8792.0, 8631.0, 8167.0, 7396.0, 7310.0, 6735.0, 6639.0, 6557.0, 6214.0], \"locationmode\": \"USA-states\", \"text\": [\"Philippines\", \"Kenya\", \"El Salvador\", \"Cambodia\", \"Pakistan\", \"Peru\", \"Colombia\", \"Uganda\", \"Tajikistan\", \"Ecuador\", \"Paraguay\", \"Nicaragua\", \"India\", \"Vietnam\", \"Nigeria\", \"Bolivia\", \"Lebanon\", \"Armenia\", \"Palestine\", \"Samoa\", \"Guatemala\", \"Rwanda\", \"Mali\", \"Honduras\", \"Indonesia\"], \"marker\": {\"line\": {\"color\": \"rgb(180,180,180)\", \"width\": 2}}, \"colorbar\": {\"tickprefix\": \"\", \"title\": \"Number Of Loans\"}}], {\"title\": \"Loans Instances by Country\", \"geo\": {\"showframe\": false, \"showcoastlines\": true, \"projection\": {\"type\": \"Mercator\"}}}, {\"showLink\": true, \"linkText\": \"Export to plot.ly\"})});</script>"
      ]
     },
     "metadata": {},
     "output_type": "display_data"
    }
   ],
   "source": [
    "import plotly.offline as offline\n",
    "#scl = [[0.0,'rgb(242,240,248)'],[0.20,'rgb(215,220,225)'],[0.40,'rgb(190,195,198)'],[0.60,'rgb(160,170,180)'],[0.80,'rgb(140,144,150)'],[1.0,'rgb(110,114,120)']]\n",
    "colorscale = [[0,\"rgb(5, 10, 172)\"],[0.85,\"rgb(40, 60, 190)\"],[0.9,\"rgb(70, 100, 245)\"],\\\n",
    "            [0.94,\"rgb(90, 120, 245)\"],[0.97,\"rgb(106, 137, 247)\"],[1,\"rgb(220, 220, 220)\"]],\n",
    "loan_data = [ dict(\n",
    "        type='choropleth',\n",
    "        colorscale = colorscale,\n",
    "        autocolorscale = False,\n",
    "        reversescale = True,\n",
    "        locations = loan_count_by_country_df['Country'],\n",
    "        z = loan_count_by_country_df['number_of_loans'].astype(float),\n",
    "        locationmode = 'USA-states',\n",
    "        text = loan_count_by_country_df['Country'],\n",
    "        marker = dict(\n",
    "            line = dict (\n",
    "                color = 'rgb(180,180,180)',\n",
    "                width = 2\n",
    "            )\n",
    "        ),\n",
    "        colorbar = dict(\n",
    "            tickprefix = '',\n",
    "            title = \"Number Of Loans\"\n",
    "        )\n",
    "    ) ]\n",
    "\n",
    "loan_layout = dict(\n",
    "    title = 'Loans Instances by Country',\n",
    "    geo = dict(\n",
    "        showframe = False,\n",
    "        showcoastlines = True,\n",
    "        projection = dict(\n",
    "            type = 'Mercator'\n",
    "        )\n",
    "    )\n",
    ")\n",
    "\n",
    "fig = dict(data=loan_data,layout=loan_layout)\n",
    "#py.iplot(fig,validate=False,filename='choropleth-map')\n",
    "iplot(fig,validate=False,filename='choropleth-map')\n",
    "#fig = ff.dict(data=loan_data,layout=loan_layout)\n",
    "#fig = offline.plot({'data':loan_data,'layout':loan_layout},image='png')\n",
    "#py.iplot(fig)"
   ]
  },
  {
   "cell_type": "code",
   "execution_count": 87,
   "metadata": {
    "collapsed": true
   },
   "outputs": [],
   "source": [
    "#Heatmap for number of loans by country"
   ]
  },
  {
   "cell_type": "code",
   "execution_count": 88,
   "metadata": {},
   "outputs": [
    {
     "data": {
      "text/plain": [
       "[<matplotlib.text.Text at 0x127f2be48>,\n",
       " <matplotlib.text.Text at 0x127f2f400>,\n",
       " <matplotlib.text.Text at 0x140941f60>,\n",
       " <matplotlib.text.Text at 0x140949a58>,\n",
       " <matplotlib.text.Text at 0x14094e550>,\n",
       " <matplotlib.text.Text at 0x140956048>,\n",
       " <matplotlib.text.Text at 0x140956b00>,\n",
       " <matplotlib.text.Text at 0x14095a5f8>,\n",
       " <matplotlib.text.Text at 0x1409600f0>,\n",
       " <matplotlib.text.Text at 0x140960ba8>,\n",
       " <matplotlib.text.Text at 0x1409666a0>,\n",
       " <matplotlib.text.Text at 0x14096c198>,\n",
       " <matplotlib.text.Text at 0x14096cc50>,\n",
       " <matplotlib.text.Text at 0x140974748>,\n",
       " <matplotlib.text.Text at 0x140979240>,\n",
       " <matplotlib.text.Text at 0x140979cf8>,\n",
       " <matplotlib.text.Text at 0x1409817f0>,\n",
       " <matplotlib.text.Text at 0x1409862e8>,\n",
       " <matplotlib.text.Text at 0x140986da0>,\n",
       " <matplotlib.text.Text at 0x14098e898>,\n",
       " <matplotlib.text.Text at 0x140994390>,\n",
       " <matplotlib.text.Text at 0x140994e48>,\n",
       " <matplotlib.text.Text at 0x14099b940>,\n",
       " <matplotlib.text.Text at 0x1409a0438>,\n",
       " <matplotlib.text.Text at 0x1409a0ef0>]"
      ]
     },
     "execution_count": 88,
     "metadata": {},
     "output_type": "execute_result"
    },
    {
     "data": {
      "image/png": "[encoded data removed]",
      "text/plain": [
       "<matplotlib.figure.Figure at 0x121ea5be0>"
      ]
     },
     "metadata": {},
     "output_type": "display_data"
    }
   ],
   "source": [
    "import seaborn as sns\n",
    "import matplotlib.pyplot as plt\n",
    "from matplotlib import rcParams\n",
    "\n",
    "\n",
    "%matplotlib inline\n",
    "rcParams['figure.figsize'] = 15,10\n",
    "x = loan_count_by_country_df['Country']\n",
    "y = loan_count_by_country_df['number_of_loans']\n",
    "figure_size = (18,15)\n",
    "figure, ax = plt.subplots(figsize=figure_size)\n",
    "ax = sns.barplot(x='Country', y ='number_of_loans',data=loan_count_by_country_df)\n",
    "ax.set_xticklabels(ax.get_xticklabels(),rotation=45)"
   ]
  },
  {
   "cell_type": "code",
   "execution_count": 89,
   "metadata": {},
   "outputs": [
    {
     "data": {
      "text/html": [
       "<script>requirejs.config({paths: { 'plotly': ['https://cdn.plot.ly/plotly-latest.min']},});if(!window.Plotly) {{require(['plotly'],function(plotly) {window.Plotly=plotly;});}}</script>"
      ],
      "text/vnd.plotly.v1+html": [
       "<script>requirejs.config({paths: { 'plotly': ['https://cdn.plot.ly/plotly-latest.min']},});if(!window.Plotly) {{require(['plotly'],function(plotly) {window.Plotly=plotly;});}}</script>"
      ]
     },
     "metadata": {},
     "output_type": "display_data"
    },
    {
     "data": {
      "application/vnd.plotly.v1+json": {
       "data": [
        {
         "labels": [
          "Philippines",
          "Kenya",
          "El Salvador",
          "Cambodia",
          "Pakistan",
          "Peru",
          "Colombia",
          "Uganda",
          "Tajikistan",
          "Ecuador",
          "Paraguay",
          "Nicaragua",
          "India",
          "Vietnam",
          "Nigeria",
          "Bolivia",
          "Lebanon",
          "Armenia",
          "Palestine",
          "Samoa",
          "Guatemala",
          "Rwanda",
          "Mali",
          "Honduras",
          "Indonesia"
         ],
         "type": "pie",
         "values": [
          160441,
          75825,
          39875,
          34836,
          26857,
          22233,
          21995,
          20601,
          19580,
          13521,
          11903,
          11781,
          11237,
          10843,
          10136,
          8806,
          8792,
          8631,
          8167,
          7396,
          7310,
          6735,
          6639,
          6557,
          6214
         ]
        }
       ],
       "layout": {
        "title": "Loans Distribution by Country"
       }
      },
      "text/html": [
       "<div id=\"ced11cbc-2146-4e45-8bff-cffcba0b6d85\" style=\"height: 525px; width: 100%;\" class=\"plotly-graph-div\"></div><script type=\"text/javascript\">require([\"plotly\"], function(Plotly) { window.PLOTLYENV=window.PLOTLYENV || {};window.PLOTLYENV.BASE_URL=\"https://plot.ly\";Plotly.newPlot(\"ced11cbc-2146-4e45-8bff-cffcba0b6d85\", [{\"type\": \"pie\", \"labels\": [\"Philippines\", \"Kenya\", \"El Salvador\", \"Cambodia\", \"Pakistan\", \"Peru\", \"Colombia\", \"Uganda\", \"Tajikistan\", \"Ecuador\", \"Paraguay\", \"Nicaragua\", \"India\", \"Vietnam\", \"Nigeria\", \"Bolivia\", \"Lebanon\", \"Armenia\", \"Palestine\", \"Samoa\", \"Guatemala\", \"Rwanda\", \"Mali\", \"Honduras\", \"Indonesia\"], \"values\": [160441, 75825, 39875, 34836, 26857, 22233, 21995, 20601, 19580, 13521, 11903, 11781, 11237, 10843, 10136, 8806, 8792, 8631, 8167, 7396, 7310, 6735, 6639, 6557, 6214]}], {\"title\": \"Loans Distribution by Country\"}, {\"showLink\": true, \"linkText\": \"Export to plot.ly\"})});</script>"
      ],
      "text/vnd.plotly.v1+html": [
       "<div id=\"ced11cbc-2146-4e45-8bff-cffcba0b6d85\" style=\"height: 525px; width: 100%;\" class=\"plotly-graph-div\"></div><script type=\"text/javascript\">require([\"plotly\"], function(Plotly) { window.PLOTLYENV=window.PLOTLYENV || {};window.PLOTLYENV.BASE_URL=\"https://plot.ly\";Plotly.newPlot(\"ced11cbc-2146-4e45-8bff-cffcba0b6d85\", [{\"type\": \"pie\", \"labels\": [\"Philippines\", \"Kenya\", \"El Salvador\", \"Cambodia\", \"Pakistan\", \"Peru\", \"Colombia\", \"Uganda\", \"Tajikistan\", \"Ecuador\", \"Paraguay\", \"Nicaragua\", \"India\", \"Vietnam\", \"Nigeria\", \"Bolivia\", \"Lebanon\", \"Armenia\", \"Palestine\", \"Samoa\", \"Guatemala\", \"Rwanda\", \"Mali\", \"Honduras\", \"Indonesia\"], \"values\": [160441, 75825, 39875, 34836, 26857, 22233, 21995, 20601, 19580, 13521, 11903, 11781, 11237, 10843, 10136, 8806, 8792, 8631, 8167, 7396, 7310, 6735, 6639, 6557, 6214]}], {\"title\": \"Loans Distribution by Country\"}, {\"showLink\": true, \"linkText\": \"Export to plot.ly\"})});</script>"
      ]
     },
     "metadata": {},
     "output_type": "display_data"
    }
   ],
   "source": [
    "import plotly.graph_objs as go\n",
    "init_notebook_mode(connected=True)\n",
    "#loan_count_by_country_df\n",
    "trace = go.Pie(labels=loan_count_by_country_df.Country,values=loan_count_by_country_df.number_of_loans)\n",
    "layout = dict(\n",
    "    title='Loans Distribution by Country',\n",
    ")\n",
    "#fig = go.\n",
    "fig = go.Figure(data=[trace],layout=layout)\n",
    "#py.iplot([trace],filename='Loan Count By Country')\n",
    "iplot(fig,filename='Loan Distribution')\n",
    "\n",
    "# Post Execution Notes: The pie chart below shows that from countries like Philipines,Kenya,El Salvador,Cambodia highest number of loans are being taken."
   ]
  },
  {
   "cell_type": "code",
   "execution_count": 90,
   "metadata": {
    "collapsed": true
   },
   "outputs": [],
   "source": [
    "# Number of Loans by Sector"
   ]
  },
  {
   "cell_type": "code",
   "execution_count": 91,
   "metadata": {},
   "outputs": [
    {
     "data": {
      "application/vnd.plotly.v1+json": {
       "data": [
        {
         "labels": [
          "Agriculture",
          "Food",
          "Retail",
          "Services",
          "Personal Use",
          "Housing",
          "Clothing",
          "Education",
          "Transportation",
          "Arts",
          "Health",
          "Construction",
          "Manufacturing",
          "Entertainment",
          "Wholesale"
         ],
         "type": "pie",
         "values": [
          180302,
          136657,
          124494,
          45140,
          36385,
          33731,
          32742,
          31013,
          15518,
          12060,
          9223,
          6268,
          6208,
          830,
          634
         ]
        }
       ],
       "layout": {
        "title": "Loan Distribution By Sector"
       }
      },
      "text/html": [
       "<div id=\"cc87abaf-e5c4-47a7-b1c3-b7d45e83a917\" style=\"height: 525px; width: 100%;\" class=\"plotly-graph-div\"></div><script type=\"text/javascript\">require([\"plotly\"], function(Plotly) { window.PLOTLYENV=window.PLOTLYENV || {};window.PLOTLYENV.BASE_URL=\"https://plot.ly\";Plotly.newPlot(\"cc87abaf-e5c4-47a7-b1c3-b7d45e83a917\", [{\"type\": \"pie\", \"labels\": [\"Agriculture\", \"Food\", \"Retail\", \"Services\", \"Personal Use\", \"Housing\", \"Clothing\", \"Education\", \"Transportation\", \"Arts\", \"Health\", \"Construction\", \"Manufacturing\", \"Entertainment\", \"Wholesale\"], \"values\": [180302, 136657, 124494, 45140, 36385, 33731, 32742, 31013, 15518, 12060, 9223, 6268, 6208, 830, 634]}], {\"title\": \"Loan Distribution By Sector\"}, {\"showLink\": true, \"linkText\": \"Export to plot.ly\"})});</script>"
      ],
      "text/vnd.plotly.v1+html": [
       "<div id=\"cc87abaf-e5c4-47a7-b1c3-b7d45e83a917\" style=\"height: 525px; width: 100%;\" class=\"plotly-graph-div\"></div><script type=\"text/javascript\">require([\"plotly\"], function(Plotly) { window.PLOTLYENV=window.PLOTLYENV || {};window.PLOTLYENV.BASE_URL=\"https://plot.ly\";Plotly.newPlot(\"cc87abaf-e5c4-47a7-b1c3-b7d45e83a917\", [{\"type\": \"pie\", \"labels\": [\"Agriculture\", \"Food\", \"Retail\", \"Services\", \"Personal Use\", \"Housing\", \"Clothing\", \"Education\", \"Transportation\", \"Arts\", \"Health\", \"Construction\", \"Manufacturing\", \"Entertainment\", \"Wholesale\"], \"values\": [180302, 136657, 124494, 45140, 36385, 33731, 32742, 31013, 15518, 12060, 9223, 6268, 6208, 830, 634]}], {\"title\": \"Loan Distribution By Sector\"}, {\"showLink\": true, \"linkText\": \"Export to plot.ly\"})});</script>"
      ]
     },
     "metadata": {},
     "output_type": "display_data"
    }
   ],
   "source": [
    "\n",
    "import plotly.graph_objs as go\n",
    "import plotly.plotly as py\n",
    "\n",
    "kiva_loans_count_by_sector = kiva_loan['sector'].value_counts().reset_index()\n",
    "kiva_loans_count_by_sector.columns = ['Sector','NumberOfLoans']\n",
    "kiva_loans_count_by_sector.head(n=5)\n",
    "trace = go.Pie(labels=kiva_loans_count_by_sector.Sector,values=kiva_loans_count_by_sector.NumberOfLoans)\n",
    "layout = dict(\n",
    "    title='Loan Distribution By Sector',\n",
    ")\n",
    "fig = go.Figure(data=[trace],layout=layout)\n",
    "iplot(fig,filename='Loan Distribtuion BySector')"
   ]
  },
  {
   "cell_type": "code",
   "execution_count": 92,
   "metadata": {
    "collapsed": true
   },
   "outputs": [],
   "source": [
    "# Average Dollar Value of Loan per Country"
   ]
  },
  {
   "cell_type": "code",
   "execution_count": 93,
   "metadata": {},
   "outputs": [
    {
     "data": {
      "text/html": [
       "<div>\n",
       "<style>\n",
       "    .dataframe thead tr:only-child th {\n",
       "        text-align: right;\n",
       "    }\n",
       "\n",
       "    .dataframe thead th {\n",
       "        text-align: left;\n",
       "    }\n",
       "\n",
       "    .dataframe tbody tr th {\n",
       "        vertical-align: top;\n",
       "    }\n",
       "</style>\n",
       "<table border=\"1\" class=\"dataframe\">\n",
       "  <thead>\n",
       "    <tr style=\"text-align: right;\">\n",
       "      <th></th>\n",
       "      <th>Country</th>\n",
       "      <th>AverageLoanAmount</th>\n",
       "    </tr>\n",
       "  </thead>\n",
       "  <tbody>\n",
       "    <tr>\n",
       "      <th>18</th>\n",
       "      <td>Cote D'Ivoire</td>\n",
       "      <td>50000.000000</td>\n",
       "    </tr>\n",
       "    <tr>\n",
       "      <th>13</th>\n",
       "      <td>Chile</td>\n",
       "      <td>12265.000000</td>\n",
       "    </tr>\n",
       "    <tr>\n",
       "      <th>6</th>\n",
       "      <td>Bhutan</td>\n",
       "      <td>10000.000000</td>\n",
       "    </tr>\n",
       "    <tr>\n",
       "      <th>0</th>\n",
       "      <td>Afghanistan</td>\n",
       "      <td>7000.000000</td>\n",
       "    </tr>\n",
       "    <tr>\n",
       "      <th>16</th>\n",
       "      <td>Congo</td>\n",
       "      <td>6142.578125</td>\n",
       "    </tr>\n",
       "  </tbody>\n",
       "</table>\n",
       "</div>"
      ],
      "text/plain": [
       "          Country  AverageLoanAmount\n",
       "18  Cote D'Ivoire       50000.000000\n",
       "13          Chile       12265.000000\n",
       "6          Bhutan       10000.000000\n",
       "0     Afghanistan        7000.000000\n",
       "16          Congo        6142.578125"
      ]
     },
     "execution_count": 93,
     "metadata": {},
     "output_type": "execute_result"
    }
   ],
   "source": [
    "average_loan_value_by_country_df = pd.DataFrame(kiva_loan.groupby(['country'])['loan_amount'].mean()).head(n=25).reset_index()\n",
    "average_loan_value_by_country_df.columns = ['Country','AverageLoanAmount']\n",
    "average_loan_value_by_country_df = average_loan_value_by_country_df.sort_values(by=['AverageLoanAmount'],ascending=False)\n",
    "average_loan_value_by_country_df.head(n=5)"
   ]
  },
  {
   "cell_type": "code",
   "execution_count": 94,
   "metadata": {},
   "outputs": [
    {
     "data": {
      "text/plain": [
       "[<matplotlib.text.Text at 0x140b95860>,\n",
       " <matplotlib.text.Text at 0x140b83a90>,\n",
       " <matplotlib.text.Text at 0x14159be10>,\n",
       " <matplotlib.text.Text at 0x1415a3908>,\n",
       " <matplotlib.text.Text at 0x1415a8400>,\n",
       " <matplotlib.text.Text at 0x1415a8eb8>,\n",
       " <matplotlib.text.Text at 0x1415ad9b0>,\n",
       " <matplotlib.text.Text at 0x1415b34a8>,\n",
       " <matplotlib.text.Text at 0x1415b3f60>,\n",
       " <matplotlib.text.Text at 0x1415baa58>,\n",
       " <matplotlib.text.Text at 0x1415c2550>,\n",
       " <matplotlib.text.Text at 0x1415c6048>,\n",
       " <matplotlib.text.Text at 0x1415c6b00>,\n",
       " <matplotlib.text.Text at 0x1415ce5f8>,\n",
       " <matplotlib.text.Text at 0x1415d30f0>,\n",
       " <matplotlib.text.Text at 0x1415d3ba8>,\n",
       " <matplotlib.text.Text at 0x1415d96a0>,\n",
       " <matplotlib.text.Text at 0x1415df198>,\n",
       " <matplotlib.text.Text at 0x1415dfc50>,\n",
       " <matplotlib.text.Text at 0x1415e5748>,\n",
       " <matplotlib.text.Text at 0x1415eb240>,\n",
       " <matplotlib.text.Text at 0x1415ebcf8>,\n",
       " <matplotlib.text.Text at 0x1415f37f0>,\n",
       " <matplotlib.text.Text at 0x1415f92e8>,\n",
       " <matplotlib.text.Text at 0x1415f9da0>]"
      ]
     },
     "execution_count": 94,
     "metadata": {},
     "output_type": "execute_result"
    },
    {
     "data": {
      "image/png": "[encoded data removed]",
      "text/plain": [
       "<matplotlib.figure.Figure at 0x128318c18>"
      ]
     },
     "metadata": {},
     "output_type": "display_data"
    }
   ],
   "source": [
    "rcParams['figure.figsize'] = 15,10\n",
    "x = average_loan_value_by_country_df['Country']\n",
    "y = average_loan_value_by_country_df['AverageLoanAmount']\n",
    "figure_size = (18,15)\n",
    "figure, ax = plt.subplots(figsize=figure_size)\n",
    "ax = sns.barplot(x='Country', y ='AverageLoanAmount',data=average_loan_value_by_country_df)\n",
    "ax.set_xticklabels(ax.get_xticklabels(),rotation=45)"
   ]
  },
  {
   "cell_type": "code",
   "execution_count": 95,
   "metadata": {},
   "outputs": [
    {
     "data": {
      "text/html": [
       "<div>\n",
       "<style>\n",
       "    .dataframe thead tr:only-child th {\n",
       "        text-align: right;\n",
       "    }\n",
       "\n",
       "    .dataframe thead th {\n",
       "        text-align: left;\n",
       "    }\n",
       "\n",
       "    .dataframe tbody tr th {\n",
       "        vertical-align: top;\n",
       "    }\n",
       "</style>\n",
       "<table border=\"1\" class=\"dataframe\">\n",
       "  <thead>\n",
       "    <tr style=\"text-align: right;\">\n",
       "      <th></th>\n",
       "      <th>Country</th>\n",
       "      <th>TotalLoanAmount</th>\n",
       "    </tr>\n",
       "  </thead>\n",
       "  <tbody>\n",
       "    <tr>\n",
       "      <th>22</th>\n",
       "      <td>El Salvador</td>\n",
       "      <td>26603650.0</td>\n",
       "    </tr>\n",
       "    <tr>\n",
       "      <th>11</th>\n",
       "      <td>Cambodia</td>\n",
       "      <td>19872700.0</td>\n",
       "    </tr>\n",
       "    <tr>\n",
       "      <th>7</th>\n",
       "      <td>Bolivia</td>\n",
       "      <td>19843250.0</td>\n",
       "    </tr>\n",
       "    <tr>\n",
       "      <th>20</th>\n",
       "      <td>Ecuador</td>\n",
       "      <td>15000275.0</td>\n",
       "    </tr>\n",
       "    <tr>\n",
       "      <th>15</th>\n",
       "      <td>Colombia</td>\n",
       "      <td>14415600.0</td>\n",
       "    </tr>\n",
       "  </tbody>\n",
       "</table>\n",
       "</div>"
      ],
      "text/plain": [
       "        Country  TotalLoanAmount\n",
       "22  El Salvador       26603650.0\n",
       "11     Cambodia       19872700.0\n",
       "7       Bolivia       19843250.0\n",
       "20      Ecuador       15000275.0\n",
       "15     Colombia       14415600.0"
      ]
     },
     "execution_count": 95,
     "metadata": {},
     "output_type": "execute_result"
    }
   ],
   "source": [
    "# Total Loan Dollar Value Per Country\n",
    "total_loan_value_by_country_df = pd.DataFrame(kiva_loan.groupby(['country'])['loan_amount'].sum()).head(n=25).reset_index()\n",
    "total_loan_value_by_country_df.columns = ['Country','TotalLoanAmount']\n",
    "total_loan_value_by_country_df = total_loan_value_by_country_df.sort_values(by=['TotalLoanAmount'],ascending=False)\n",
    "total_loan_value_by_country_df.head(n=5)"
   ]
  },
  {
   "cell_type": "code",
   "execution_count": 96,
   "metadata": {},
   "outputs": [
    {
     "data": {
      "text/plain": [
       "[<matplotlib.text.Text at 0x14164c400>,\n",
       " <matplotlib.text.Text at 0x14163f630>,\n",
       " <matplotlib.text.Text at 0x148a94d30>,\n",
       " <matplotlib.text.Text at 0x148a9a828>,\n",
       " <matplotlib.text.Text at 0x148aa1320>,\n",
       " <matplotlib.text.Text at 0x148aa1dd8>,\n",
       " <matplotlib.text.Text at 0x148aa88d0>,\n",
       " <matplotlib.text.Text at 0x148aaf3c8>,\n",
       " <matplotlib.text.Text at 0x148aafe80>,\n",
       " <matplotlib.text.Text at 0x148ab4978>,\n",
       " <matplotlib.text.Text at 0x148aba470>,\n",
       " <matplotlib.text.Text at 0x148abaf28>,\n",
       " <matplotlib.text.Text at 0x148ac3a20>,\n",
       " <matplotlib.text.Text at 0x148ac8518>,\n",
       " <matplotlib.text.Text at 0x148ac8fd0>,\n",
       " <matplotlib.text.Text at 0x148acdac8>,\n",
       " <matplotlib.text.Text at 0x148ad35c0>,\n",
       " <matplotlib.text.Text at 0x148ada0b8>,\n",
       " <matplotlib.text.Text at 0x148adab70>,\n",
       " <matplotlib.text.Text at 0x148ae0668>,\n",
       " <matplotlib.text.Text at 0x148ae6160>,\n",
       " <matplotlib.text.Text at 0x148ae6c18>,\n",
       " <matplotlib.text.Text at 0x148aed710>,\n",
       " <matplotlib.text.Text at 0x148af1208>,\n",
       " <matplotlib.text.Text at 0x148af1cc0>]"
      ]
     },
     "execution_count": 96,
     "metadata": {},
     "output_type": "execute_result"
    },
    {
     "data": {
      "image/png": "[encoded data removed]",
      "text/plain": [
       "<matplotlib.figure.Figure at 0x140d32668>"
      ]
     },
     "metadata": {},
     "output_type": "display_data"
    }
   ],
   "source": [
    "rcParams['figure.figsize'] = 15,10\n",
    "x = total_loan_value_by_country_df['Country']\n",
    "y = total_loan_value_by_country_df['TotalLoanAmount']\n",
    "figure_size = (18,15)\n",
    "figure, ax = plt.subplots(figsize=figure_size)\n",
    "ax = sns.barplot(x='Country', y ='TotalLoanAmount',data=total_loan_value_by_country_df)\n",
    "ax.set_xticklabels(ax.get_xticklabels(),rotation=45)"
   ]
  }
 ],
 "metadata": {
  "kernelspec": {
   "display_name": "Python 3",
   "language": "python",
   "name": "python3"
  },
  "language_info": {
   "codemirror_mode": {
    "name": "ipython",
    "version": 3
   },
   "file_extension": ".py",
   "mimetype": "text/x-python",
   "name": "python",
   "nbconvert_exporter": "python",
   "pygments_lexer": "ipython3",
   "version": "3.6.1"
  }
 },
 "nbformat": 4,
 "nbformat_minor": 2
}
